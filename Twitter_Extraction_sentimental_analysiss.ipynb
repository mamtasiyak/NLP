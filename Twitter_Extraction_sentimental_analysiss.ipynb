{
 "cells": [
  {
   "cell_type": "code",
   "execution_count": 37,
   "metadata": {},
   "outputs": [],
   "source": [
    "import tweepy\n",
    "from textblob import TextBlob\n",
    "import matplotlib.pyplot as plt"
   ]
  },
  {
   "cell_type": "code",
   "execution_count": 12,
   "metadata": {},
   "outputs": [],
   "source": [
    "consumer_key='xx'    # storing consumer key\n",
    "consumer_secret='xx' # storing consumer secret\n",
    "access_token='xx'  #storing access token\n",
    "access_token_secret='xx'  # storing access token secret"
   ]
  },
  {
   "cell_type": "code",
   "execution_count": 13,
   "metadata": {},
   "outputs": [],
   "source": [
    "auth=tweepy.OAuthHandler(consumer_key,consumer_secret)\n",
    "auth.set_access_token(access_token,access_token_secret)"
   ]
  },
  {
   "cell_type": "code",
   "execution_count": 14,
   "metadata": {},
   "outputs": [],
   "source": [
    "#connect API\n",
    "api_connect=tweepy.API(auth)"
   ]
  },
  {
   "cell_type": "code",
   "execution_count": 9,
   "metadata": {},
   "outputs": [],
   "source": [
    "search_usr=api_connect.user_timeline('BeingSalmanKhan')"
   ]
  },
  {
   "cell_type": "code",
   "execution_count": 19,
   "metadata": {},
   "outputs": [
    {
     "data": {
      "text/plain": [
       "Status(_api=<tweepy.api.API object at 0x000002AD898F4CC0>, _json={'created_at': 'Mon Jun 17 11:47:07 +0000 2019', 'id': 1140586669470617600, 'id_str': '1140586669470617600', 'text': 'RT @spectatorindex: Most powerful people in the world, 2018.\\n\\n1. Xi Jinping\\n2. Vladimir Putin\\n3. Donald Trump\\n4. Angela Merkel\\n5. Jeff Bezo…', 'truncated': False, 'entities': {'hashtags': [], 'symbols': [], 'user_mentions': [{'screen_name': 'spectatorindex', 'name': 'The Spectator Index', 'id': 1626294277, 'id_str': '1626294277', 'indices': [3, 18]}], 'urls': []}, 'metadata': {'iso_language_code': 'en', 'result_type': 'recent'}, 'source': '<a href=\"http://twitter.com/download/iphone\" rel=\"nofollow\">Twitter for iPhone</a>', 'in_reply_to_status_id': None, 'in_reply_to_status_id_str': None, 'in_reply_to_user_id': None, 'in_reply_to_user_id_str': None, 'in_reply_to_screen_name': None, 'user': {'id': 137276798, 'id_str': '137276798', 'name': 'somedisco', 'screen_name': 'somedisco', 'location': 'London', 'description': 'talks cobblers and likes coffee', 'url': 'https://t.co/lKHvqK7zZQ', 'entities': {'url': {'urls': [{'url': 'https://t.co/lKHvqK7zZQ', 'expanded_url': 'http://somedisco.blogspot.co.uk/', 'display_url': 'somedisco.blogspot.co.uk', 'indices': [0, 23]}]}, 'description': {'urls': []}}, 'protected': False, 'followers_count': 430, 'friends_count': 881, 'listed_count': 21, 'created_at': 'Mon Apr 26 09:22:55 +0000 2010', 'favourites_count': 5950, 'utc_offset': None, 'time_zone': None, 'geo_enabled': False, 'verified': False, 'statuses_count': 15622, 'lang': 'en', 'contributors_enabled': False, 'is_translator': False, 'is_translation_enabled': False, 'profile_background_color': 'C0DEED', 'profile_background_image_url': 'http://abs.twimg.com/images/themes/theme1/bg.png', 'profile_background_image_url_https': 'https://abs.twimg.com/images/themes/theme1/bg.png', 'profile_background_tile': True, 'profile_image_url': 'http://pbs.twimg.com/profile_images/1122049420135206912/ULaJffIP_normal.jpg', 'profile_image_url_https': 'https://pbs.twimg.com/profile_images/1122049420135206912/ULaJffIP_normal.jpg', 'profile_banner_url': 'https://pbs.twimg.com/profile_banners/137276798/1387521969', 'profile_link_color': '0084B4', 'profile_sidebar_border_color': 'C0DEED', 'profile_sidebar_fill_color': 'DDEEF6', 'profile_text_color': '333333', 'profile_use_background_image': True, 'has_extended_profile': False, 'default_profile': False, 'default_profile_image': False, 'following': False, 'follow_request_sent': False, 'notifications': False, 'translator_type': 'none'}, 'geo': None, 'coordinates': None, 'place': None, 'contributors': None, 'retweeted_status': {'created_at': 'Sun Jun 16 21:40:23 +0000 2019', 'id': 1140373580565192705, 'id_str': '1140373580565192705', 'text': 'Most powerful people in the world, 2018.\\n\\n1. Xi Jinping\\n2. Vladimir Putin\\n3. Donald Trump\\n4. Angela Merkel\\n5. Jeff… https://t.co/lpsM2jv0xA', 'truncated': True, 'entities': {'hashtags': [], 'symbols': [], 'user_mentions': [], 'urls': [{'url': 'https://t.co/lpsM2jv0xA', 'expanded_url': 'https://twitter.com/i/web/status/1140373580565192705', 'display_url': 'twitter.com/i/web/status/1…', 'indices': [116, 139]}]}, 'metadata': {'iso_language_code': 'en', 'result_type': 'recent'}, 'source': '<a href=\"https://about.twitter.com/products/tweetdeck\" rel=\"nofollow\">TweetDeck</a>', 'in_reply_to_status_id': None, 'in_reply_to_status_id_str': None, 'in_reply_to_user_id': None, 'in_reply_to_user_id_str': None, 'in_reply_to_screen_name': None, 'user': {'id': 1626294277, 'id_str': '1626294277', 'name': 'The Spectator Index', 'screen_name': 'spectatorindex', 'location': 'Global', 'description': 'Watching the world. Focused on politics, economics, history, military affairs, sports, science and technology.', 'url': None, 'entities': {'description': {'urls': []}}, 'protected': False, 'followers_count': 1088547, 'friends_count': 0, 'listed_count': 9198, 'created_at': 'Sat Jul 27 20:42:27 +0000 2013', 'favourites_count': 1, 'utc_offset': None, 'time_zone': None, 'geo_enabled': False, 'verified': False, 'statuses_count': 34784, 'lang': 'en', 'contributors_enabled': False, 'is_translator': False, 'is_translation_enabled': False, 'profile_background_color': '000000', 'profile_background_image_url': 'http://abs.twimg.com/images/themes/theme1/bg.png', 'profile_background_image_url_https': 'https://abs.twimg.com/images/themes/theme1/bg.png', 'profile_background_tile': False, 'profile_image_url': 'http://pbs.twimg.com/profile_images/839067030904922112/LH4xqz-d_normal.jpg', 'profile_image_url_https': 'https://pbs.twimg.com/profile_images/839067030904922112/LH4xqz-d_normal.jpg', 'profile_banner_url': 'https://pbs.twimg.com/profile_banners/1626294277/1430626667', 'profile_link_color': 'ABB8C2', 'profile_sidebar_border_color': '000000', 'profile_sidebar_fill_color': '000000', 'profile_text_color': '000000', 'profile_use_background_image': False, 'has_extended_profile': False, 'default_profile': False, 'default_profile_image': False, 'following': False, 'follow_request_sent': False, 'notifications': False, 'translator_type': 'none'}, 'geo': None, 'coordinates': None, 'place': None, 'contributors': None, 'is_quote_status': False, 'retweet_count': 639, 'favorite_count': 1728, 'favorited': False, 'retweeted': False, 'possibly_sensitive': False, 'lang': 'en'}, 'is_quote_status': False, 'retweet_count': 639, 'favorite_count': 0, 'favorited': False, 'retweeted': False, 'lang': 'en'}, created_at=datetime.datetime(2019, 6, 17, 11, 47, 7), id=1140586669470617600, id_str='1140586669470617600', text='RT @spectatorindex: Most powerful people in the world, 2018.\\n\\n1. Xi Jinping\\n2. Vladimir Putin\\n3. Donald Trump\\n4. Angela Merkel\\n5. Jeff Bezo…', truncated=False, entities={'hashtags': [], 'symbols': [], 'user_mentions': [{'screen_name': 'spectatorindex', 'name': 'The Spectator Index', 'id': 1626294277, 'id_str': '1626294277', 'indices': [3, 18]}], 'urls': []}, metadata={'iso_language_code': 'en', 'result_type': 'recent'}, source='Twitter for iPhone', source_url='http://twitter.com/download/iphone', in_reply_to_status_id=None, in_reply_to_status_id_str=None, in_reply_to_user_id=None, in_reply_to_user_id_str=None, in_reply_to_screen_name=None, author=User(_api=<tweepy.api.API object at 0x000002AD898F4CC0>, _json={'id': 137276798, 'id_str': '137276798', 'name': 'somedisco', 'screen_name': 'somedisco', 'location': 'London', 'description': 'talks cobblers and likes coffee', 'url': 'https://t.co/lKHvqK7zZQ', 'entities': {'url': {'urls': [{'url': 'https://t.co/lKHvqK7zZQ', 'expanded_url': 'http://somedisco.blogspot.co.uk/', 'display_url': 'somedisco.blogspot.co.uk', 'indices': [0, 23]}]}, 'description': {'urls': []}}, 'protected': False, 'followers_count': 430, 'friends_count': 881, 'listed_count': 21, 'created_at': 'Mon Apr 26 09:22:55 +0000 2010', 'favourites_count': 5950, 'utc_offset': None, 'time_zone': None, 'geo_enabled': False, 'verified': False, 'statuses_count': 15622, 'lang': 'en', 'contributors_enabled': False, 'is_translator': False, 'is_translation_enabled': False, 'profile_background_color': 'C0DEED', 'profile_background_image_url': 'http://abs.twimg.com/images/themes/theme1/bg.png', 'profile_background_image_url_https': 'https://abs.twimg.com/images/themes/theme1/bg.png', 'profile_background_tile': True, 'profile_image_url': 'http://pbs.twimg.com/profile_images/1122049420135206912/ULaJffIP_normal.jpg', 'profile_image_url_https': 'https://pbs.twimg.com/profile_images/1122049420135206912/ULaJffIP_normal.jpg', 'profile_banner_url': 'https://pbs.twimg.com/profile_banners/137276798/1387521969', 'profile_link_color': '0084B4', 'profile_sidebar_border_color': 'C0DEED', 'profile_sidebar_fill_color': 'DDEEF6', 'profile_text_color': '333333', 'profile_use_background_image': True, 'has_extended_profile': False, 'default_profile': False, 'default_profile_image': False, 'following': False, 'follow_request_sent': False, 'notifications': False, 'translator_type': 'none'}, id=137276798, id_str='137276798', name='somedisco', screen_name='somedisco', location='London', description='talks cobblers and likes coffee', url='https://t.co/lKHvqK7zZQ', entities={'url': {'urls': [{'url': 'https://t.co/lKHvqK7zZQ', 'expanded_url': 'http://somedisco.blogspot.co.uk/', 'display_url': 'somedisco.blogspot.co.uk', 'indices': [0, 23]}]}, 'description': {'urls': []}}, protected=False, followers_count=430, friends_count=881, listed_count=21, created_at=datetime.datetime(2010, 4, 26, 9, 22, 55), favourites_count=5950, utc_offset=None, time_zone=None, geo_enabled=False, verified=False, statuses_count=15622, lang='en', contributors_enabled=False, is_translator=False, is_translation_enabled=False, profile_background_color='C0DEED', profile_background_image_url='http://abs.twimg.com/images/themes/theme1/bg.png', profile_background_image_url_https='https://abs.twimg.com/images/themes/theme1/bg.png', profile_background_tile=True, profile_image_url='http://pbs.twimg.com/profile_images/1122049420135206912/ULaJffIP_normal.jpg', profile_image_url_https='https://pbs.twimg.com/profile_images/1122049420135206912/ULaJffIP_normal.jpg', profile_banner_url='https://pbs.twimg.com/profile_banners/137276798/1387521969', profile_link_color='0084B4', profile_sidebar_border_color='C0DEED', profile_sidebar_fill_color='DDEEF6', profile_text_color='333333', profile_use_background_image=True, has_extended_profile=False, default_profile=False, default_profile_image=False, following=False, follow_request_sent=False, notifications=False, translator_type='none'), user=User(_api=<tweepy.api.API object at 0x000002AD898F4CC0>, _json={'id': 137276798, 'id_str': '137276798', 'name': 'somedisco', 'screen_name': 'somedisco', 'location': 'London', 'description': 'talks cobblers and likes coffee', 'url': 'https://t.co/lKHvqK7zZQ', 'entities': {'url': {'urls': [{'url': 'https://t.co/lKHvqK7zZQ', 'expanded_url': 'http://somedisco.blogspot.co.uk/', 'display_url': 'somedisco.blogspot.co.uk', 'indices': [0, 23]}]}, 'description': {'urls': []}}, 'protected': False, 'followers_count': 430, 'friends_count': 881, 'listed_count': 21, 'created_at': 'Mon Apr 26 09:22:55 +0000 2010', 'favourites_count': 5950, 'utc_offset': None, 'time_zone': None, 'geo_enabled': False, 'verified': False, 'statuses_count': 15622, 'lang': 'en', 'contributors_enabled': False, 'is_translator': False, 'is_translation_enabled': False, 'profile_background_color': 'C0DEED', 'profile_background_image_url': 'http://abs.twimg.com/images/themes/theme1/bg.png', 'profile_background_image_url_https': 'https://abs.twimg.com/images/themes/theme1/bg.png', 'profile_background_tile': True, 'profile_image_url': 'http://pbs.twimg.com/profile_images/1122049420135206912/ULaJffIP_normal.jpg', 'profile_image_url_https': 'https://pbs.twimg.com/profile_images/1122049420135206912/ULaJffIP_normal.jpg', 'profile_banner_url': 'https://pbs.twimg.com/profile_banners/137276798/1387521969', 'profile_link_color': '0084B4', 'profile_sidebar_border_color': 'C0DEED', 'profile_sidebar_fill_color': 'DDEEF6', 'profile_text_color': '333333', 'profile_use_background_image': True, 'has_extended_profile': False, 'default_profile': False, 'default_profile_image': False, 'following': False, 'follow_request_sent': False, 'notifications': False, 'translator_type': 'none'}, id=137276798, id_str='137276798', name='somedisco', screen_name='somedisco', location='London', description='talks cobblers and likes coffee', url='https://t.co/lKHvqK7zZQ', entities={'url': {'urls': [{'url': 'https://t.co/lKHvqK7zZQ', 'expanded_url': 'http://somedisco.blogspot.co.uk/', 'display_url': 'somedisco.blogspot.co.uk', 'indices': [0, 23]}]}, 'description': {'urls': []}}, protected=False, followers_count=430, friends_count=881, listed_count=21, created_at=datetime.datetime(2010, 4, 26, 9, 22, 55), favourites_count=5950, utc_offset=None, time_zone=None, geo_enabled=False, verified=False, statuses_count=15622, lang='en', contributors_enabled=False, is_translator=False, is_translation_enabled=False, profile_background_color='C0DEED', profile_background_image_url='http://abs.twimg.com/images/themes/theme1/bg.png', profile_background_image_url_https='https://abs.twimg.com/images/themes/theme1/bg.png', profile_background_tile=True, profile_image_url='http://pbs.twimg.com/profile_images/1122049420135206912/ULaJffIP_normal.jpg', profile_image_url_https='https://pbs.twimg.com/profile_images/1122049420135206912/ULaJffIP_normal.jpg', profile_banner_url='https://pbs.twimg.com/profile_banners/137276798/1387521969', profile_link_color='0084B4', profile_sidebar_border_color='C0DEED', profile_sidebar_fill_color='DDEEF6', profile_text_color='333333', profile_use_background_image=True, has_extended_profile=False, default_profile=False, default_profile_image=False, following=False, follow_request_sent=False, notifications=False, translator_type='none'), geo=None, coordinates=None, place=None, contributors=None, retweeted_status=Status(_api=<tweepy.api.API object at 0x000002AD898F4CC0>, _json={'created_at': 'Sun Jun 16 21:40:23 +0000 2019', 'id': 1140373580565192705, 'id_str': '1140373580565192705', 'text': 'Most powerful people in the world, 2018.\\n\\n1. Xi Jinping\\n2. Vladimir Putin\\n3. Donald Trump\\n4. Angela Merkel\\n5. Jeff… https://t.co/lpsM2jv0xA', 'truncated': True, 'entities': {'hashtags': [], 'symbols': [], 'user_mentions': [], 'urls': [{'url': 'https://t.co/lpsM2jv0xA', 'expanded_url': 'https://twitter.com/i/web/status/1140373580565192705', 'display_url': 'twitter.com/i/web/status/1…', 'indices': [116, 139]}]}, 'metadata': {'iso_language_code': 'en', 'result_type': 'recent'}, 'source': '<a href=\"https://about.twitter.com/products/tweetdeck\" rel=\"nofollow\">TweetDeck</a>', 'in_reply_to_status_id': None, 'in_reply_to_status_id_str': None, 'in_reply_to_user_id': None, 'in_reply_to_user_id_str': None, 'in_reply_to_screen_name': None, 'user': {'id': 1626294277, 'id_str': '1626294277', 'name': 'The Spectator Index', 'screen_name': 'spectatorindex', 'location': 'Global', 'description': 'Watching the world. Focused on politics, economics, history, military affairs, sports, science and technology.', 'url': None, 'entities': {'description': {'urls': []}}, 'protected': False, 'followers_count': 1088547, 'friends_count': 0, 'listed_count': 9198, 'created_at': 'Sat Jul 27 20:42:27 +0000 2013', 'favourites_count': 1, 'utc_offset': None, 'time_zone': None, 'geo_enabled': False, 'verified': False, 'statuses_count': 34784, 'lang': 'en', 'contributors_enabled': False, 'is_translator': False, 'is_translation_enabled': False, 'profile_background_color': '000000', 'profile_background_image_url': 'http://abs.twimg.com/images/themes/theme1/bg.png', 'profile_background_image_url_https': 'https://abs.twimg.com/images/themes/theme1/bg.png', 'profile_background_tile': False, 'profile_image_url': 'http://pbs.twimg.com/profile_images/839067030904922112/LH4xqz-d_normal.jpg', 'profile_image_url_https': 'https://pbs.twimg.com/profile_images/839067030904922112/LH4xqz-d_normal.jpg', 'profile_banner_url': 'https://pbs.twimg.com/profile_banners/1626294277/1430626667', 'profile_link_color': 'ABB8C2', 'profile_sidebar_border_color': '000000', 'profile_sidebar_fill_color': '000000', 'profile_text_color': '000000', 'profile_use_background_image': False, 'has_extended_profile': False, 'default_profile': False, 'default_profile_image': False, 'following': False, 'follow_request_sent': False, 'notifications': False, 'translator_type': 'none'}, 'geo': None, 'coordinates': None, 'place': None, 'contributors': None, 'is_quote_status': False, 'retweet_count': 639, 'favorite_count': 1728, 'favorited': False, 'retweeted': False, 'possibly_sensitive': False, 'lang': 'en'}, created_at=datetime.datetime(2019, 6, 16, 21, 40, 23), id=1140373580565192705, id_str='1140373580565192705', text='Most powerful people in the world, 2018.\\n\\n1. Xi Jinping\\n2. Vladimir Putin\\n3. Donald Trump\\n4. Angela Merkel\\n5. Jeff… https://t.co/lpsM2jv0xA', truncated=True, entities={'hashtags': [], 'symbols': [], 'user_mentions': [], 'urls': [{'url': 'https://t.co/lpsM2jv0xA', 'expanded_url': 'https://twitter.com/i/web/status/1140373580565192705', 'display_url': 'twitter.com/i/web/status/1…', 'indices': [116, 139]}]}, metadata={'iso_language_code': 'en', 'result_type': 'recent'}, source='TweetDeck', source_url='https://about.twitter.com/products/tweetdeck', in_reply_to_status_id=None, in_reply_to_status_id_str=None, in_reply_to_user_id=None, in_reply_to_user_id_str=None, in_reply_to_screen_name=None, author=User(_api=<tweepy.api.API object at 0x000002AD898F4CC0>, _json={'id': 1626294277, 'id_str': '1626294277', 'name': 'The Spectator Index', 'screen_name': 'spectatorindex', 'location': 'Global', 'description': 'Watching the world. Focused on politics, economics, history, military affairs, sports, science and technology.', 'url': None, 'entities': {'description': {'urls': []}}, 'protected': False, 'followers_count': 1088547, 'friends_count': 0, 'listed_count': 9198, 'created_at': 'Sat Jul 27 20:42:27 +0000 2013', 'favourites_count': 1, 'utc_offset': None, 'time_zone': None, 'geo_enabled': False, 'verified': False, 'statuses_count': 34784, 'lang': 'en', 'contributors_enabled': False, 'is_translator': False, 'is_translation_enabled': False, 'profile_background_color': '000000', 'profile_background_image_url': 'http://abs.twimg.com/images/themes/theme1/bg.png', 'profile_background_image_url_https': 'https://abs.twimg.com/images/themes/theme1/bg.png', 'profile_background_tile': False, 'profile_image_url': 'http://pbs.twimg.com/profile_images/839067030904922112/LH4xqz-d_normal.jpg', 'profile_image_url_https': 'https://pbs.twimg.com/profile_images/839067030904922112/LH4xqz-d_normal.jpg', 'profile_banner_url': 'https://pbs.twimg.com/profile_banners/1626294277/1430626667', 'profile_link_color': 'ABB8C2', 'profile_sidebar_border_color': '000000', 'profile_sidebar_fill_color': '000000', 'profile_text_color': '000000', 'profile_use_background_image': False, 'has_extended_profile': False, 'default_profile': False, 'default_profile_image': False, 'following': False, 'follow_request_sent': False, 'notifications': False, 'translator_type': 'none'}, id=1626294277, id_str='1626294277', name='The Spectator Index', screen_name='spectatorindex', location='Global', description='Watching the world. Focused on politics, economics, history, military affairs, sports, science and technology.', url=None, entities={'description': {'urls': []}}, protected=False, followers_count=1088547, friends_count=0, listed_count=9198, created_at=datetime.datetime(2013, 7, 27, 20, 42, 27), favourites_count=1, utc_offset=None, time_zone=None, geo_enabled=False, verified=False, statuses_count=34784, lang='en', contributors_enabled=False, is_translator=False, is_translation_enabled=False, profile_background_color='000000', profile_background_image_url='http://abs.twimg.com/images/themes/theme1/bg.png', profile_background_image_url_https='https://abs.twimg.com/images/themes/theme1/bg.png', profile_background_tile=False, profile_image_url='http://pbs.twimg.com/profile_images/839067030904922112/LH4xqz-d_normal.jpg', profile_image_url_https='https://pbs.twimg.com/profile_images/839067030904922112/LH4xqz-d_normal.jpg', profile_banner_url='https://pbs.twimg.com/profile_banners/1626294277/1430626667', profile_link_color='ABB8C2', profile_sidebar_border_color='000000', profile_sidebar_fill_color='000000', profile_text_color='000000', profile_use_background_image=False, has_extended_profile=False, default_profile=False, default_profile_image=False, following=False, follow_request_sent=False, notifications=False, translator_type='none'), user=User(_api=<tweepy.api.API object at 0x000002AD898F4CC0>, _json={'id': 1626294277, 'id_str': '1626294277', 'name': 'The Spectator Index', 'screen_name': 'spectatorindex', 'location': 'Global', 'description': 'Watching the world. Focused on politics, economics, history, military affairs, sports, science and technology.', 'url': None, 'entities': {'description': {'urls': []}}, 'protected': False, 'followers_count': 1088547, 'friends_count': 0, 'listed_count': 9198, 'created_at': 'Sat Jul 27 20:42:27 +0000 2013', 'favourites_count': 1, 'utc_offset': None, 'time_zone': None, 'geo_enabled': False, 'verified': False, 'statuses_count': 34784, 'lang': 'en', 'contributors_enabled': False, 'is_translator': False, 'is_translation_enabled': False, 'profile_background_color': '000000', 'profile_background_image_url': 'http://abs.twimg.com/images/themes/theme1/bg.png', 'profile_background_image_url_https': 'https://abs.twimg.com/images/themes/theme1/bg.png', 'profile_background_tile': False, 'profile_image_url': 'http://pbs.twimg.com/profile_images/839067030904922112/LH4xqz-d_normal.jpg', 'profile_image_url_https': 'https://pbs.twimg.com/profile_images/839067030904922112/LH4xqz-d_normal.jpg', 'profile_banner_url': 'https://pbs.twimg.com/profile_banners/1626294277/1430626667', 'profile_link_color': 'ABB8C2', 'profile_sidebar_border_color': '000000', 'profile_sidebar_fill_color': '000000', 'profile_text_color': '000000', 'profile_use_background_image': False, 'has_extended_profile': False, 'default_profile': False, 'default_profile_image': False, 'following': False, 'follow_request_sent': False, 'notifications': False, 'translator_type': 'none'}, id=1626294277, id_str='1626294277', name='The Spectator Index', screen_name='spectatorindex', location='Global', description='Watching the world. Focused on politics, economics, history, military affairs, sports, science and technology.', url=None, entities={'description': {'urls': []}}, protected=False, followers_count=1088547, friends_count=0, listed_count=9198, created_at=datetime.datetime(2013, 7, 27, 20, 42, 27), favourites_count=1, utc_offset=None, time_zone=None, geo_enabled=False, verified=False, statuses_count=34784, lang='en', contributors_enabled=False, is_translator=False, is_translation_enabled=False, profile_background_color='000000', profile_background_image_url='http://abs.twimg.com/images/themes/theme1/bg.png', profile_background_image_url_https='https://abs.twimg.com/images/themes/theme1/bg.png', profile_background_tile=False, profile_image_url='http://pbs.twimg.com/profile_images/839067030904922112/LH4xqz-d_normal.jpg', profile_image_url_https='https://pbs.twimg.com/profile_images/839067030904922112/LH4xqz-d_normal.jpg', profile_banner_url='https://pbs.twimg.com/profile_banners/1626294277/1430626667', profile_link_color='ABB8C2', profile_sidebar_border_color='000000', profile_sidebar_fill_color='000000', profile_text_color='000000', profile_use_background_image=False, has_extended_profile=False, default_profile=False, default_profile_image=False, following=False, follow_request_sent=False, notifications=False, translator_type='none'), geo=None, coordinates=None, place=None, contributors=None, is_quote_status=False, retweet_count=639, favorite_count=1728, favorited=False, retweeted=False, possibly_sensitive=False, lang='en'), is_quote_status=False, retweet_count=639, favorite_count=0, favorited=False, retweeted=False, lang='en')"
      ]
     },
     "execution_count": 19,
     "metadata": {},
     "output_type": "execute_result"
    }
   ],
   "source": [
    "searched=api_connect.search('Narendra Modi',count=20)\n",
    "searched[0]"
   ]
  },
  {
   "cell_type": "code",
   "execution_count": 31,
   "metadata": {},
   "outputs": [],
   "source": [
    "#now api is connect now we can search\n",
    "tweets=api_connect.search('Narendra Modi',count=10)"
   ]
  },
  {
   "cell_type": "code",
   "execution_count": 32,
   "metadata": {},
   "outputs": [
    {
     "name": "stdout",
     "output_type": "stream",
     "text": [
      "RT @narendramodi: Yoga:\n",
      "\n",
      "More than just exercises.\n",
      "\n",
      "Simple and convenient. \n",
      "\n",
      "Helps improve concentration and decision making.\n",
      "\n",
      "Improves pos…\n",
      "RT @TimesNow: Post Prime Minister Narendra Modi’s visit,  Maldives is likely to scrap a 2017 deal with China to build an observatory in the…\n",
      "RT @narendramodi: Yoga:\n",
      "\n",
      "More than just exercises.\n",
      "\n",
      "Simple and convenient. \n",
      "\n",
      "Helps improve concentration and decision making.\n",
      "\n",
      "Improves pos…\n",
      "RT @narendramodi: Yoga:\n",
      "\n",
      "More than just exercises.\n",
      "\n",
      "Simple and convenient. \n",
      "\n",
      "Helps improve concentration and decision making.\n",
      "\n",
      "Improves pos…\n",
      "RT @narendramodi: Yoga:\n",
      "\n",
      "More than just exercises.\n",
      "\n",
      "Simple and convenient. \n",
      "\n",
      "Helps improve concentration and decision making.\n",
      "\n",
      "Improves pos…\n",
      "PM Narendra Modi announces $200 million line of credit for Kyrgyzstan as two sides sign 15 pacts… https://t.co/8WorJSgvDb\n",
      "RT @narendramodi: Yoga:\n",
      "\n",
      "More than just exercises.\n",
      "\n",
      "Simple and convenient. \n",
      "\n",
      "Helps improve concentration and decision making.\n",
      "\n",
      "Improves pos…\n"
     ]
    }
   ],
   "source": [
    "for tweet in tweets:\n",
    "    print(tweet.text)"
   ]
  },
  {
   "cell_type": "markdown",
   "metadata": {},
   "source": [
    "# Now applying sentiment analysis"
   ]
  },
  {
   "cell_type": "code",
   "execution_count": 41,
   "metadata": {},
   "outputs": [
    {
     "name": "stdout",
     "output_type": "stream",
     "text": [
      "Sentiment(polarity=0.25, subjectivity=0.4285714285714286)\n",
      "Positive Sentiment\n",
      "Sentiment(polarity=0.0, subjectivity=1.0)\n",
      "Neutral Sentiment\n",
      "Sentiment(polarity=0.25, subjectivity=0.4285714285714286)\n",
      "Positive Sentiment\n",
      "Sentiment(polarity=0.25, subjectivity=0.4285714285714286)\n",
      "Positive Sentiment\n",
      "Sentiment(polarity=0.25, subjectivity=0.4285714285714286)\n",
      "Positive Sentiment\n",
      "Sentiment(polarity=0.0, subjectivity=0.0)\n",
      "Neutral Sentiment\n",
      "Sentiment(polarity=0.25, subjectivity=0.4285714285714286)\n",
      "Positive Sentiment\n"
     ]
    }
   ],
   "source": [
    "Positive=[]\n",
    "Negative=[]\n",
    "Neutral=[]\n",
    "for tweet in tweets:\n",
    "    analysis=TextBlob(tweet.text)\n",
    "    print(analysis.sentiment)\n",
    "    #print(analysis.sentiment.polarity)\n",
    "    if analysis.sentiment.polarity > 0 :\n",
    "        print(\"Positive Sentiment\")\n",
    "    elif analysis.sentiment.polarity == 0 :\n",
    "        print('Neutral Sentiment')\n",
    "    else:\n",
    "        print(\"Negative Sentiment\")\n",
    "        "
   ]
  },
  {
   "cell_type": "code",
   "execution_count": 47,
   "metadata": {},
   "outputs": [
    {
     "name": "stdout",
     "output_type": "stream",
     "text": [
      "Positive Sentiment 5\n",
      "Negative Sentiment 2\n",
      "Neutral Sentiment 0\n"
     ]
    }
   ],
   "source": [
    "Positive=0\n",
    "Negative=0\n",
    "Neutral=0\n",
    "for tweet in tweets:\n",
    "    analysis=TextBlob(tweet.text)\n",
    "    #print(analysis.sentiment)\n",
    "    #print(analysis.sentiment.polarity)\n",
    "    if analysis.sentiment.polarity > 0 :\n",
    "        Positive += 1\n",
    "    elif analysis.sentiment.polarity == 0 :\n",
    "        Negative += 1\n",
    "    else:\n",
    "        Neutral += 1\n",
    "        \n",
    "print('Positive Sentiment',Positive)\n",
    "print('Negative Sentiment',Negative)\n",
    "print('Neutral Sentiment',Neutral)"
   ]
  },
  {
   "cell_type": "code",
   "execution_count": 54,
   "metadata": {},
   "outputs": [
    {
     "data": {
      "text/plain": [
       "<Container object of 3 artists>"
      ]
     },
     "execution_count": 54,
     "metadata": {},
     "output_type": "execute_result"
    },
    {
     "data": {
      "image/png": "[encoded data removed]",
      "text/plain": [
       "<matplotlib.figure.Figure at 0x2ad9e339668>"
      ]
     },
     "metadata": {
      "needs_background": "light"
     },
     "output_type": "display_data"
    }
   ],
   "source": [
    "plt.xlabel('Polarity',color='cyan')\n",
    "plt.ylabel('count',color='magenta')\n",
    "plt.bar(['positive','negative','neutral'],[Positive,Negative,Neutral])"
   ]
  },
  {
   "cell_type": "code",
   "execution_count": null,
   "metadata": {},
   "outputs": [],
   "source": []
  }
 ],
 "metadata": {
  "kernelspec": {
   "display_name": "Python 3",
   "language": "python",
   "name": "python3"
  },
  "language_info": {
   "codemirror_mode": {
    "name": "ipython",
    "version": 3
   },
   "file_extension": ".py",
   "mimetype": "text/x-python",
   "name": "python",
   "nbconvert_exporter": "python",
   "pygments_lexer": "ipython3",
   "version": "3.6.4"
  }
 },
 "nbformat": 4,
 "nbformat_minor": 2
}
