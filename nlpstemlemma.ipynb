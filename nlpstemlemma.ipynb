{
 "cells": [
  {
   "cell_type": "code",
   "execution_count": 2,
   "metadata": {},
   "outputs": [],
   "source": [
    "import nltk\n",
    "from nltk.corpus import stopwords"
   ]
  },
  {
   "cell_type": "code",
   "execution_count": 3,
   "metadata": {},
   "outputs": [
    {
     "data": {
      "text/plain": [
       "['i', 'me', 'my', 'myself', 'we', 'our', 'ours', 'ourselves', 'you', \"you're\"]"
      ]
     },
     "execution_count": 3,
     "metadata": {},
     "output_type": "execute_result"
    }
   ],
   "source": [
    "stopw=[i for i in stopwords.words('english')]\n",
    "stopw[:10]"
   ]
  },
  {
   "cell_type": "code",
   "execution_count": 5,
   "metadata": {},
   "outputs": [],
   "source": [
    "from nltk.tokenize import sent_tokenize,word_tokenize\n",
    "from nltk.stem import WordNetLemmatizer  # for lemmatization\n",
    "from nltk.stem import PorterStemmer   # for stemming"
   ]
  },
  {
   "cell_type": "code",
   "execution_count": 8,
   "metadata": {},
   "outputs": [],
   "source": [
    "data='''The titular threat of The Blob has always struck me as the ultimate movie\n",
    "monster: an insatiably hungry, amoeba-like mass able to penetrate\n",
    "virtually any safeguard, capable of--as a doomed doctor chillingly\n",
    "describes it assimilating flesh on contact.\n",
    "Snide comparisons to gelatin be damned, its a concept with the most\n",
    "devastating of potential consequences, not unlike the grey goo scenario\n",
    "proposed by technological theorists fearful of\n",
    "artificial intelligence run rampant'''"
   ]
  },
  {
   "cell_type": "code",
   "execution_count": 11,
   "metadata": {},
   "outputs": [],
   "source": [
    "wtoken=word_tokenize(data)   # word tokenize on behalf of space / seperate words"
   ]
  },
  {
   "cell_type": "code",
   "execution_count": 12,
   "metadata": {},
   "outputs": [
    {
     "data": {
      "text/plain": [
       "['The',\n",
       " 'titular',\n",
       " 'threat',\n",
       " 'The',\n",
       " 'Blob',\n",
       " 'always',\n",
       " 'struck',\n",
       " 'ultimate',\n",
       " 'movie',\n",
       " 'monster',\n",
       " ':',\n",
       " 'insatiably',\n",
       " 'hungry',\n",
       " ',',\n",
       " 'amoeba-like',\n",
       " 'mass',\n",
       " 'able',\n",
       " 'penetrate',\n",
       " 'virtually',\n",
       " 'safeguard',\n",
       " ',',\n",
       " 'capable',\n",
       " '--',\n",
       " 'doomed',\n",
       " 'doctor',\n",
       " 'chillingly',\n",
       " 'describes',\n",
       " 'assimilating',\n",
       " 'flesh',\n",
       " 'contact',\n",
       " '.',\n",
       " 'Snide',\n",
       " 'comparisons',\n",
       " 'gelatin',\n",
       " 'damned',\n",
       " ',',\n",
       " 'concept',\n",
       " 'devastating',\n",
       " 'potential',\n",
       " 'consequences',\n",
       " ',',\n",
       " 'unlike',\n",
       " 'grey',\n",
       " 'goo',\n",
       " 'scenario',\n",
       " 'proposed',\n",
       " 'technological',\n",
       " 'theorists',\n",
       " 'fearful',\n",
       " 'artificial',\n",
       " 'intelligence',\n",
       " 'run',\n",
       " 'rampant']"
      ]
     },
     "execution_count": 12,
     "metadata": {},
     "output_type": "execute_result"
    }
   ],
   "source": [
    "#removing stopwords\n",
    "usefulwords=[word for word in wtoken if word not in stopw]\n",
    "usefulwords"
   ]
  },
  {
   "cell_type": "code",
   "execution_count": 14,
   "metadata": {},
   "outputs": [
    {
     "name": "stdout",
     "output_type": "stream",
     "text": [
      "stemming of word is :  the\n",
      "stemming of word is :  titular\n",
      "stemming of word is :  threat\n",
      "stemming of word is :  the\n",
      "stemming of word is :  blob\n",
      "stemming of word is :  alway\n",
      "stemming of word is :  struck\n",
      "stemming of word is :  ultim\n",
      "stemming of word is :  movi\n",
      "stemming of word is :  monster\n",
      "stemming of word is :  :\n",
      "stemming of word is :  insati\n",
      "stemming of word is :  hungri\n",
      "stemming of word is :  ,\n",
      "stemming of word is :  amoeba-lik\n",
      "stemming of word is :  mass\n",
      "stemming of word is :  abl\n",
      "stemming of word is :  penetr\n",
      "stemming of word is :  virtual\n",
      "stemming of word is :  safeguard\n",
      "stemming of word is :  ,\n",
      "stemming of word is :  capabl\n",
      "stemming of word is :  --\n",
      "stemming of word is :  doom\n",
      "stemming of word is :  doctor\n",
      "stemming of word is :  chillingli\n",
      "stemming of word is :  describ\n",
      "stemming of word is :  assimil\n",
      "stemming of word is :  flesh\n",
      "stemming of word is :  contact\n",
      "stemming of word is :  .\n",
      "stemming of word is :  snide\n",
      "stemming of word is :  comparison\n",
      "stemming of word is :  gelatin\n",
      "stemming of word is :  damn\n",
      "stemming of word is :  ,\n",
      "stemming of word is :  concept\n",
      "stemming of word is :  devast\n",
      "stemming of word is :  potenti\n",
      "stemming of word is :  consequ\n",
      "stemming of word is :  ,\n",
      "stemming of word is :  unlik\n",
      "stemming of word is :  grey\n",
      "stemming of word is :  goo\n",
      "stemming of word is :  scenario\n",
      "stemming of word is :  propos\n",
      "stemming of word is :  technolog\n",
      "stemming of word is :  theorist\n",
      "stemming of word is :  fear\n",
      "stemming of word is :  artifici\n",
      "stemming of word is :  intellig\n",
      "stemming of word is :  run\n",
      "stemming of word is :  rampant\n"
     ]
    }
   ],
   "source": [
    "#stemming\n",
    "ps=PorterStemmer()\n",
    "for i in usefulwords:\n",
    "    print(\"stemming of word is : \",ps.stem(i))"
   ]
  },
  {
   "cell_type": "code",
   "execution_count": 15,
   "metadata": {},
   "outputs": [
    {
     "name": "stdout",
     "output_type": "stream",
     "text": [
      "lemmatization of words id :  The\n",
      "lemmatization of words id :  titular\n",
      "lemmatization of words id :  threat\n",
      "lemmatization of words id :  The\n",
      "lemmatization of words id :  Blob\n",
      "lemmatization of words id :  always\n",
      "lemmatization of words id :  struck\n",
      "lemmatization of words id :  ultimate\n",
      "lemmatization of words id :  movie\n",
      "lemmatization of words id :  monster\n",
      "lemmatization of words id :  :\n",
      "lemmatization of words id :  insatiably\n",
      "lemmatization of words id :  hungry\n",
      "lemmatization of words id :  ,\n",
      "lemmatization of words id :  amoeba-like\n",
      "lemmatization of words id :  mass\n",
      "lemmatization of words id :  able\n",
      "lemmatization of words id :  penetrate\n",
      "lemmatization of words id :  virtually\n",
      "lemmatization of words id :  safeguard\n",
      "lemmatization of words id :  ,\n",
      "lemmatization of words id :  capable\n",
      "lemmatization of words id :  --\n",
      "lemmatization of words id :  doomed\n",
      "lemmatization of words id :  doctor\n",
      "lemmatization of words id :  chillingly\n",
      "lemmatization of words id :  describes\n",
      "lemmatization of words id :  assimilating\n",
      "lemmatization of words id :  flesh\n",
      "lemmatization of words id :  contact\n",
      "lemmatization of words id :  .\n",
      "lemmatization of words id :  Snide\n",
      "lemmatization of words id :  comparison\n",
      "lemmatization of words id :  gelatin\n",
      "lemmatization of words id :  damned\n",
      "lemmatization of words id :  ,\n",
      "lemmatization of words id :  concept\n",
      "lemmatization of words id :  devastating\n",
      "lemmatization of words id :  potential\n",
      "lemmatization of words id :  consequence\n",
      "lemmatization of words id :  ,\n",
      "lemmatization of words id :  unlike\n",
      "lemmatization of words id :  grey\n",
      "lemmatization of words id :  goo\n",
      "lemmatization of words id :  scenario\n",
      "lemmatization of words id :  proposed\n",
      "lemmatization of words id :  technological\n",
      "lemmatization of words id :  theorist\n",
      "lemmatization of words id :  fearful\n",
      "lemmatization of words id :  artificial\n",
      "lemmatization of words id :  intelligence\n",
      "lemmatization of words id :  run\n",
      "lemmatization of words id :  rampant\n"
     ]
    }
   ],
   "source": [
    "#lemmatization\n",
    "lem=WordNetLemmatizer()\n",
    "for i in usefulwords:\n",
    "    print(\"lemmatization of words id : \",lem.lemmatize(i))"
   ]
  },
  {
   "cell_type": "code",
   "execution_count": null,
   "metadata": {},
   "outputs": [],
   "source": []
  }
 ],
 "metadata": {
  "kernelspec": {
   "display_name": "Python 3",
   "language": "python",
   "name": "python3"
  },
  "language_info": {
   "codemirror_mode": {
    "name": "ipython",
    "version": 3
   },
   "file_extension": ".py",
   "mimetype": "text/x-python",
   "name": "python",
   "nbconvert_exporter": "python",
   "pygments_lexer": "ipython3",
   "version": "3.6.4"
  }
 },
 "nbformat": 4,
 "nbformat_minor": 2
}
