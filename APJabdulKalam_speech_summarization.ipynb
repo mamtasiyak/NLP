{
 "cells": [
  {
   "cell_type": "code",
   "execution_count": 193,
   "metadata": {},
   "outputs": [],
   "source": [
    "import time\n",
    "import requests\n",
    "from urllib.request import urlopen as ureq\n",
    "from bs4 import BeautifulSoup as soup"
   ]
  },
  {
   "cell_type": "code",
   "execution_count": 194,
   "metadata": {},
   "outputs": [],
   "source": [
    "url='https://speakola.com/motivate/apj-abdul-kalam-iit-madras-2010'"
   ]
  },
  {
   "cell_type": "code",
   "execution_count": 195,
   "metadata": {},
   "outputs": [],
   "source": [
    "request=ureq(url)#The assembled request\n",
    "page_html=request.read()\n",
    "request.close()"
   ]
  },
  {
   "cell_type": "code",
   "execution_count": 196,
   "metadata": {},
   "outputs": [],
   "source": [
    "page_soup=soup(page_html,\"html.parser\")"
   ]
  },
  {
   "cell_type": "code",
   "execution_count": 197,
   "metadata": {},
   "outputs": [],
   "source": [
    "containers=page_soup.findAll('div',{'class':\"sqs-block html-block sqs-block-html\"})"
   ]
  },
  {
   "cell_type": "code",
   "execution_count": 198,
   "metadata": {},
   "outputs": [
    {
     "data": {
      "text/plain": [
       "'2010, IIT Madras, Madras, IndiaI am delighted to be here at the Indian Institute of Technology Madras and address the members of this renowned place of learning and other guests present here. My greetings to you all.Friends, before I begin my address I want to share a thought with all the youth present here. I have met, so far, 11 million youth like you in a decade?s time, in India and abroad. I have seen their hopes, experienced their pains, walked with their aspirations and heard through their despair. All this experience made me learn something about them, which I would like to share with you:I learnt, every youth wants to be unique, that is, YOU! But the world all around you, is doing its best, day and night, to make you just \"everybody else\".Being like everybody else is convenient at the first glance, but not satisfying in the long vision.The challenge, therefore, my young friends, is that you have to fight the hardest battle, which any human being can ever imagine to fight; and never stop fighting until you arrive at your destined place, that is, a UNIQUE YOU!Being unique will require excellence, let us understand what is excellence in more detail.Excellence is a self-imposed self-directed life-long processExcellence is not by accident. It is a process, where an individual, organization or nation, continuously strives to better oneself. The performance standards are set by themselves, they work on their dreams with focus and are prepared to take calculated risks and do not get deterred by failures as they move towards their dreams. Then they step up their dreams as they tend to reach the original targets. They strive to work to their potential, in the process, they increase their performance thereby multiplying further their potential and this is an unending life cycle phenomenon. They are not in competition with anyone else, but themselves. That is the culture of excellence. Let me share an important experience from the life of the father of the nation.To learn, reflect and giveThrough 79 years of my life, I have been part of pre-independent India, jubilation of independence and the post-independence era. Let me recall, one incident which took place on the eve of Indian Independence. At the stroke of midnight of 14 ? 15 August 1947, the first Prime Minister of India Pt Jawaharlal Nehru was declaring the independence to 300 million Indians from foreign rule. There was rejoicing all around the country. At that time, there was a sudden question from a stray corner, where is the Father of Nation Mahatma Gandhiji? To the surprise of the entire audience, Mahatma Gandhi was in Calcutta wiping the tears of those who were affected due to the social disharmony. Mahatma Gandhiji\\'s diary records his advice to a group of students who came to meet him Calcutta:\"Students ought to think and think well. They should do no wrong?.. Students should do everything to build-up a new state of India which would be everybody\\'s pride\".These actions of the champion of non-violence at the time of independence made me feel proud by being led an inspirational leader.Friends, while in the company of many young inspired students of IIT Madras, I would like to give my perspective on the topic \"Evolution of a Unique YOU\". In this context, I will talk to you about four important aspects in life with my experiences ? Aim in life, Acquiring Knowledge, Working Hard towards your dream even in the times of difficulty and then finally, how to manage failures and success in life.Enjoyed this speech? Speakola is a labour of love and I’d be very grateful if you would share, tweet or like it. Thank you.'"
      ]
     },
     "execution_count": 198,
     "metadata": {},
     "output_type": "execute_result"
    }
   ],
   "source": [
    "u=[]\n",
    "for p in page_soup.select('p'):\n",
    "    u.append(p.text)\n",
    "    #print(u)\n",
    "k=''\n",
    "k=k.join(u)\n",
    "k"
   ]
  },
  {
   "cell_type": "markdown",
   "metadata": {},
   "source": [
    "# Text Summarization"
   ]
  },
  {
   "cell_type": "code",
   "execution_count": 199,
   "metadata": {},
   "outputs": [
    {
     "data": {
      "text/plain": [
       "'I have met, so far, 11 million youth like you in a decade?s time, in India and abroad.\\nAll this experience made me learn something about them, which I would like to share with you:I learnt, every youth wants to be unique, that is, YOU!\\nLet me share an important experience from the life of the father of the nation.To learn, reflect and giveThrough 79 years of my life, I have been part of pre-independent India, jubilation of independence and the post-independence era.\\nAt that time, there was a sudden question from a stray corner, where is the Father of Nation Mahatma Gandhiji?\\nStudents should do everything to build-up a new state of India which would be everybody\\'s pride\".These actions of the champion of non-violence at the time of independence made me feel proud by being led an inspirational leader.Friends, while in the company of many young inspired students of IIT Madras, I would like to give my perspective on the topic \"Evolution of a Unique YOU\".'"
      ]
     },
     "execution_count": 199,
     "metadata": {},
     "output_type": "execute_result"
    }
   ],
   "source": [
    "from gensim.summarization import summarize\n",
    "summarize(k)"
   ]
  },
  {
   "cell_type": "markdown",
   "metadata": {},
   "source": [
    "# Text Summarization using nltk"
   ]
  },
  {
   "cell_type": "code",
   "execution_count": 200,
   "metadata": {},
   "outputs": [],
   "source": [
    "from nltk.corpus import stopwords\n",
    "from nltk.tokenize import word_tokenize,sent_tokenize"
   ]
  },
  {
   "cell_type": "code",
   "execution_count": 201,
   "metadata": {},
   "outputs": [],
   "source": [
    "#create two arrays - one for stop words, and one for every word in the body of text\n",
    "stopWords = set(stopwords.words(\"english\"))\n",
    "words = word_tokenize(k)\n",
    "#words"
   ]
  },
  {
   "cell_type": "code",
   "execution_count": 203,
   "metadata": {},
   "outputs": [],
   "source": [
    "# create a dictionary for the word frequency table\n",
    "FrequencyTable=dict()\n",
    "for word in words:\n",
    "    word=word.lower()\n",
    "    if word in stopWords:  #use the words that are not part of the stopWords array\n",
    "        continue\n",
    "    if word in FrequencyTable:\n",
    "        FrequencyTable[word] += 1\n",
    "    else:\n",
    "        FrequencyTable[word] = 1        "
   ]
  },
  {
   "cell_type": "code",
   "execution_count": 217,
   "metadata": {},
   "outputs": [],
   "source": [
    "#FrequencyTable"
   ]
  },
  {
   "cell_type": "code",
   "execution_count": 218,
   "metadata": {},
   "outputs": [],
   "source": [
    "sentences=sent_tokenize(k)\n",
    "#sentences"
   ]
  },
  {
   "cell_type": "code",
   "execution_count": 230,
   "metadata": {},
   "outputs": [],
   "source": [
    "#Assigning a score to every sentence\n",
    "sentencescore=dict()\n",
    "for sentence in sentences:\n",
    "    sentence_wordcount=(len(word_tokenize(sentence)))\n",
    "    sentence_wordcount_without_stopwords=0\n",
    "    #print(sentence_wordcount)\n",
    "    for wordweight in FrequencyTable:\n",
    "        if wordweight in sentence.lower():\n",
    "            sentence_wordcount_without_stopwords += 1\n",
    "    #print(sentence_wordcount_without_stopwords)\n",
    "            if sentence in sentencescore:\n",
    "                sentencescore[sentence] += FrequencyTable[wordweight]\n",
    "            else:\n",
    "                sentencescore[sentence] = FrequencyTable[wordweight]\n",
    "    sentencescore[sentence]=sentencescore[sentence]/sentence_wordcount_without_stopwords "
   ]
  },
  {
   "cell_type": "code",
   "execution_count": 233,
   "metadata": {},
   "outputs": [],
   "source": [
    "summ=0\n",
    "for value in sentencescore:\n",
    "    summ += sentencescore[value]\n",
    "# Average value of a sentence from original text    \n",
    "averagescore=(summ/len(sentencescore))"
   ]
  },
  {
   "cell_type": "code",
   "execution_count": 237,
   "metadata": {},
   "outputs": [],
   "source": [
    "summary=''\n",
    "for sentence in sentences:\n",
    "    if sentence in sentencescore and sentencescore[sentence]  >= (1*averagescore):\n",
    "        summary += \" \" + sentence"
   ]
  },
  {
   "cell_type": "code",
   "execution_count": 238,
   "metadata": {},
   "outputs": [
    {
     "name": "stdout",
     "output_type": "stream",
     "text": [
      " My greetings to you all.Friends, before I begin my address I want to share a thought with all the youth present here. I have met, so far, 11 million youth like you in a decade?s time, in India and abroad. I have seen their hopes, experienced their pains, walked with their aspirations and heard through their despair. It is a process, where an individual, organization or nation, continuously strives to better oneself. They strive to work to their potential, in the process, they increase their performance thereby multiplying further their potential and this is an unending life cycle phenomenon. They are not in competition with anyone else, but themselves. That is the culture of excellence. Let me recall, one incident which took place on the eve of Indian Independence. There was rejoicing all around the country. They should do no wrong?.. In this context, I will talk to you about four important aspects in life with my experiences ? Speakola is a labour of love and I’d be very grateful if you would share, tweet or like it. Thank you.\n"
     ]
    }
   ],
   "source": [
    "print(summary)"
   ]
  },
  {
   "cell_type": "code",
   "execution_count": null,
   "metadata": {},
   "outputs": [],
   "source": []
  }
 ],
 "metadata": {
  "kernelspec": {
   "display_name": "Python 3",
   "language": "python",
   "name": "python3"
  },
  "language_info": {
   "codemirror_mode": {
    "name": "ipython",
    "version": 3
   },
   "file_extension": ".py",
   "mimetype": "text/x-python",
   "name": "python",
   "nbconvert_exporter": "python",
   "pygments_lexer": "ipython3",
   "version": "3.6.4"
  }
 },
 "nbformat": 4,
 "nbformat_minor": 2
}
